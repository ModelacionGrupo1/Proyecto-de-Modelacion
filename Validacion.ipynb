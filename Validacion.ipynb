{
  "nbformat": 4,
  "nbformat_minor": 0,
  "metadata": {
    "colab": {
      "provenance": [],
      "authorship_tag": "ABX9TyOzDwBKbiyfJB+Ie7HUbzjs",
      "include_colab_link": true
    },
    "kernelspec": {
      "name": "python3",
      "display_name": "Python 3"
    },
    "language_info": {
      "name": "python"
    }
  },
  "cells": [
    {
      "cell_type": "markdown",
      "metadata": {
        "id": "view-in-github",
        "colab_type": "text"
      },
      "source": [
        "<a href=\"https://colab.research.google.com/github/ModelacionGrupo1/Proyecto-de-Modelacion/blob/main/Validacion.ipynb\" target=\"_parent\"><img src=\"https://colab.research.google.com/assets/colab-badge.svg\" alt=\"Open In Colab\"/></a>"
      ]
    },
    {
      "cell_type": "code",
      "source": [
        "import matplotlib.pyplot as plt\n",
        "import numpy as np\n",
        "import pandas as pd\n",
        "import sympy as sp\n",
        "from scipy.optimize import curve_fit\n",
        "import math"
      ],
      "metadata": {
        "id": "dyHXIjz5KOVP"
      },
      "execution_count": null,
      "outputs": []
    },
    {
      "cell_type": "code",
      "source": [
        "#Para leer datos desde Google Drive: \n",
        "from google.colab import drive \n",
        "drive.mount('/content/drive')"
      ],
      "metadata": {
        "colab": {
          "base_uri": "https://localhost:8080/"
        },
        "id": "quO0EKSYK0G9",
        "outputId": "8f9b4526-ed12-4213-9643-6d926ab66e5d"
      },
      "execution_count": null,
      "outputs": [
        {
          "output_type": "stream",
          "name": "stdout",
          "text": [
            "Mounted at /content/drive\n"
          ]
        }
      ]
    },
    {
      "cell_type": "code",
      "source": [
        "df_ppa=pd.read_excel('/content/drive/MyDrive/BD_Nuevo/Total_poblacion.xlsx')\n",
        "df_ppa['Region'][4]='La Montaña'\n",
        "df_ppa.index=df_ppa['Region']\n",
        "df_ppa=df_ppa.drop(['Region'],axis=1)\n",
        "df_ppa"
      ],
      "metadata": {
        "colab": {
          "base_uri": "https://localhost:8080/",
          "height": 520
        },
        "id": "qdgFHh0JKygo",
        "outputId": "1b1fee9a-3591-489f-d5ba-1cb6c56dc64c"
      },
      "execution_count": null,
      "outputs": [
        {
          "output_type": "stream",
          "name": "stderr",
          "text": [
            "<ipython-input-5-565cb59c806c>:2: SettingWithCopyWarning: \n",
            "A value is trying to be set on a copy of a slice from a DataFrame\n",
            "\n",
            "See the caveats in the documentation: https://pandas.pydata.org/pandas-docs/stable/user_guide/indexing.html#returning-a-view-versus-a-copy\n",
            "  df_ppa['Region'][4]='La Montaña'\n"
          ]
        },
        {
          "output_type": "execute_result",
          "data": {
            "text/plain": [
              "                 Poblacion_1950  Poblacion_1960  Poblacion_1970  \\\n",
              "Region                                                            \n",
              "Acapulco                  55862           84720          238713   \n",
              "Centro                   158430          197918          256296   \n",
              "Costa Chica              131297          173054          214662   \n",
              "Costa Grande             110076          152630          205431   \n",
              "La Montaña               111161          144323          170736   \n",
              "Norte                    223490          272610          333444   \n",
              "Tierra Caliente          129070          161461          178078   \n",
              "\n",
              "                 Poblacion_1980  Poblacion_1990  Poblacion_1995  \\\n",
              "Region                                                            \n",
              "Acapulco                 409335          593212          687292   \n",
              "Centro                   340770          227473          254109   \n",
              "Costa Chica              277463          318506          598072   \n",
              "Costa Grande             248595          175784          155069   \n",
              "La Montaña               214716          328774          504862   \n",
              "Norte                    394791          601057          518957   \n",
              "Tierra Caliente          223843          375831          198206   \n",
              "\n",
              "                 Poblacion_2000  Poblacion_2005  Poblacion_2010  \\\n",
              "Region                                                            \n",
              "Acapulco                 722499          717766          789971   \n",
              "Centro                   523845          570824          636464   \n",
              "Costa Chica              388416          394455          428501   \n",
              "Costa Grande             391423          387423          413793   \n",
              "La Montaña               320114          342419          386644   \n",
              "Norte                    464022          454907          482383   \n",
              "Tierra Caliente          269330          247408          251012   \n",
              "\n",
              "                 Poblacion_2020  \n",
              "Region                           \n",
              "Acapulco                 779566  \n",
              "Centro                   700593  \n",
              "Costa Chica              461500  \n",
              "Costa Grande             423756  \n",
              "La Montaña               431253  \n",
              "Norte                    499462  \n",
              "Tierra Caliente          244555  "
            ],
            "text/html": [
              "\n",
              "  <div id=\"df-816ca5e4-1904-4daf-ae5a-7fc9b04b83d0\">\n",
              "    <div class=\"colab-df-container\">\n",
              "      <div>\n",
              "<style scoped>\n",
              "    .dataframe tbody tr th:only-of-type {\n",
              "        vertical-align: middle;\n",
              "    }\n",
              "\n",
              "    .dataframe tbody tr th {\n",
              "        vertical-align: top;\n",
              "    }\n",
              "\n",
              "    .dataframe thead th {\n",
              "        text-align: right;\n",
              "    }\n",
              "</style>\n",
              "<table border=\"1\" class=\"dataframe\">\n",
              "  <thead>\n",
              "    <tr style=\"text-align: right;\">\n",
              "      <th></th>\n",
              "      <th>Poblacion_1950</th>\n",
              "      <th>Poblacion_1960</th>\n",
              "      <th>Poblacion_1970</th>\n",
              "      <th>Poblacion_1980</th>\n",
              "      <th>Poblacion_1990</th>\n",
              "      <th>Poblacion_1995</th>\n",
              "      <th>Poblacion_2000</th>\n",
              "      <th>Poblacion_2005</th>\n",
              "      <th>Poblacion_2010</th>\n",
              "      <th>Poblacion_2020</th>\n",
              "    </tr>\n",
              "    <tr>\n",
              "      <th>Region</th>\n",
              "      <th></th>\n",
              "      <th></th>\n",
              "      <th></th>\n",
              "      <th></th>\n",
              "      <th></th>\n",
              "      <th></th>\n",
              "      <th></th>\n",
              "      <th></th>\n",
              "      <th></th>\n",
              "      <th></th>\n",
              "    </tr>\n",
              "  </thead>\n",
              "  <tbody>\n",
              "    <tr>\n",
              "      <th>Acapulco</th>\n",
              "      <td>55862</td>\n",
              "      <td>84720</td>\n",
              "      <td>238713</td>\n",
              "      <td>409335</td>\n",
              "      <td>593212</td>\n",
              "      <td>687292</td>\n",
              "      <td>722499</td>\n",
              "      <td>717766</td>\n",
              "      <td>789971</td>\n",
              "      <td>779566</td>\n",
              "    </tr>\n",
              "    <tr>\n",
              "      <th>Centro</th>\n",
              "      <td>158430</td>\n",
              "      <td>197918</td>\n",
              "      <td>256296</td>\n",
              "      <td>340770</td>\n",
              "      <td>227473</td>\n",
              "      <td>254109</td>\n",
              "      <td>523845</td>\n",
              "      <td>570824</td>\n",
              "      <td>636464</td>\n",
              "      <td>700593</td>\n",
              "    </tr>\n",
              "    <tr>\n",
              "      <th>Costa Chica</th>\n",
              "      <td>131297</td>\n",
              "      <td>173054</td>\n",
              "      <td>214662</td>\n",
              "      <td>277463</td>\n",
              "      <td>318506</td>\n",
              "      <td>598072</td>\n",
              "      <td>388416</td>\n",
              "      <td>394455</td>\n",
              "      <td>428501</td>\n",
              "      <td>461500</td>\n",
              "    </tr>\n",
              "    <tr>\n",
              "      <th>Costa Grande</th>\n",
              "      <td>110076</td>\n",
              "      <td>152630</td>\n",
              "      <td>205431</td>\n",
              "      <td>248595</td>\n",
              "      <td>175784</td>\n",
              "      <td>155069</td>\n",
              "      <td>391423</td>\n",
              "      <td>387423</td>\n",
              "      <td>413793</td>\n",
              "      <td>423756</td>\n",
              "    </tr>\n",
              "    <tr>\n",
              "      <th>La Montaña</th>\n",
              "      <td>111161</td>\n",
              "      <td>144323</td>\n",
              "      <td>170736</td>\n",
              "      <td>214716</td>\n",
              "      <td>328774</td>\n",
              "      <td>504862</td>\n",
              "      <td>320114</td>\n",
              "      <td>342419</td>\n",
              "      <td>386644</td>\n",
              "      <td>431253</td>\n",
              "    </tr>\n",
              "    <tr>\n",
              "      <th>Norte</th>\n",
              "      <td>223490</td>\n",
              "      <td>272610</td>\n",
              "      <td>333444</td>\n",
              "      <td>394791</td>\n",
              "      <td>601057</td>\n",
              "      <td>518957</td>\n",
              "      <td>464022</td>\n",
              "      <td>454907</td>\n",
              "      <td>482383</td>\n",
              "      <td>499462</td>\n",
              "    </tr>\n",
              "    <tr>\n",
              "      <th>Tierra Caliente</th>\n",
              "      <td>129070</td>\n",
              "      <td>161461</td>\n",
              "      <td>178078</td>\n",
              "      <td>223843</td>\n",
              "      <td>375831</td>\n",
              "      <td>198206</td>\n",
              "      <td>269330</td>\n",
              "      <td>247408</td>\n",
              "      <td>251012</td>\n",
              "      <td>244555</td>\n",
              "    </tr>\n",
              "  </tbody>\n",
              "</table>\n",
              "</div>\n",
              "      <button class=\"colab-df-convert\" onclick=\"convertToInteractive('df-816ca5e4-1904-4daf-ae5a-7fc9b04b83d0')\"\n",
              "              title=\"Convert this dataframe to an interactive table.\"\n",
              "              style=\"display:none;\">\n",
              "        \n",
              "  <svg xmlns=\"http://www.w3.org/2000/svg\" height=\"24px\"viewBox=\"0 0 24 24\"\n",
              "       width=\"24px\">\n",
              "    <path d=\"M0 0h24v24H0V0z\" fill=\"none\"/>\n",
              "    <path d=\"M18.56 5.44l.94 2.06.94-2.06 2.06-.94-2.06-.94-.94-2.06-.94 2.06-2.06.94zm-11 1L8.5 8.5l.94-2.06 2.06-.94-2.06-.94L8.5 2.5l-.94 2.06-2.06.94zm10 10l.94 2.06.94-2.06 2.06-.94-2.06-.94-.94-2.06-.94 2.06-2.06.94z\"/><path d=\"M17.41 7.96l-1.37-1.37c-.4-.4-.92-.59-1.43-.59-.52 0-1.04.2-1.43.59L10.3 9.45l-7.72 7.72c-.78.78-.78 2.05 0 2.83L4 21.41c.39.39.9.59 1.41.59.51 0 1.02-.2 1.41-.59l7.78-7.78 2.81-2.81c.8-.78.8-2.07 0-2.86zM5.41 20L4 18.59l7.72-7.72 1.47 1.35L5.41 20z\"/>\n",
              "  </svg>\n",
              "      </button>\n",
              "      \n",
              "  <style>\n",
              "    .colab-df-container {\n",
              "      display:flex;\n",
              "      flex-wrap:wrap;\n",
              "      gap: 12px;\n",
              "    }\n",
              "\n",
              "    .colab-df-convert {\n",
              "      background-color: #E8F0FE;\n",
              "      border: none;\n",
              "      border-radius: 50%;\n",
              "      cursor: pointer;\n",
              "      display: none;\n",
              "      fill: #1967D2;\n",
              "      height: 32px;\n",
              "      padding: 0 0 0 0;\n",
              "      width: 32px;\n",
              "    }\n",
              "\n",
              "    .colab-df-convert:hover {\n",
              "      background-color: #E2EBFA;\n",
              "      box-shadow: 0px 1px 2px rgba(60, 64, 67, 0.3), 0px 1px 3px 1px rgba(60, 64, 67, 0.15);\n",
              "      fill: #174EA6;\n",
              "    }\n",
              "\n",
              "    [theme=dark] .colab-df-convert {\n",
              "      background-color: #3B4455;\n",
              "      fill: #D2E3FC;\n",
              "    }\n",
              "\n",
              "    [theme=dark] .colab-df-convert:hover {\n",
              "      background-color: #434B5C;\n",
              "      box-shadow: 0px 1px 3px 1px rgba(0, 0, 0, 0.15);\n",
              "      filter: drop-shadow(0px 1px 2px rgba(0, 0, 0, 0.3));\n",
              "      fill: #FFFFFF;\n",
              "    }\n",
              "  </style>\n",
              "\n",
              "      <script>\n",
              "        const buttonEl =\n",
              "          document.querySelector('#df-816ca5e4-1904-4daf-ae5a-7fc9b04b83d0 button.colab-df-convert');\n",
              "        buttonEl.style.display =\n",
              "          google.colab.kernel.accessAllowed ? 'block' : 'none';\n",
              "\n",
              "        async function convertToInteractive(key) {\n",
              "          const element = document.querySelector('#df-816ca5e4-1904-4daf-ae5a-7fc9b04b83d0');\n",
              "          const dataTable =\n",
              "            await google.colab.kernel.invokeFunction('convertToInteractive',\n",
              "                                                     [key], {});\n",
              "          if (!dataTable) return;\n",
              "\n",
              "          const docLinkHtml = 'Like what you see? Visit the ' +\n",
              "            '<a target=\"_blank\" href=https://colab.research.google.com/notebooks/data_table.ipynb>data table notebook</a>'\n",
              "            + ' to learn more about interactive tables.';\n",
              "          element.innerHTML = '';\n",
              "          dataTable['output_type'] = 'display_data';\n",
              "          await google.colab.output.renderOutput(dataTable, element);\n",
              "          const docLink = document.createElement('div');\n",
              "          docLink.innerHTML = docLinkHtml;\n",
              "          element.appendChild(docLink);\n",
              "        }\n",
              "      </script>\n",
              "    </div>\n",
              "  </div>\n",
              "  "
            ]
          },
          "metadata": {},
          "execution_count": 5
        }
      ]
    },
    {
      "cell_type": "code",
      "source": [
        "ejx=df_ppa.columns.values\n",
        "ejex = np.char.replace(ejx.astype('str'), 'Poblacion_', '')"
      ],
      "metadata": {
        "id": "Nb8rBU9uKwfm"
      },
      "execution_count": null,
      "outputs": []
    },
    {
      "cell_type": "code",
      "source": [
        "ejex.astype('float')\n",
        "a1=np.ones(7)\n",
        "a2=np.ones(7)\n",
        "xm0=np.ones(7)\n",
        "dmx=np.ones(7)\n",
        "R2=np.ones(7)\n",
        "\n",
        "def sigmoid(x, A1, A2, x0, dx):\n",
        "        return (A1 - A2) / (1 + np.exp((x - x0)/dx)) + A2\n"
      ],
      "metadata": {
        "id": "_Dw-cXkeKoQJ"
      },
      "execution_count": null,
      "outputs": []
    },
    {
      "cell_type": "code",
      "execution_count": null,
      "metadata": {
        "colab": {
          "base_uri": "https://localhost:8080/"
        },
        "id": "UBxPmCnQJ79i",
        "outputId": "61f97d4d-b807-4c92-f771-004f3494cf18"
      },
      "outputs": [
        {
          "output_type": "stream",
          "name": "stdout",
          "text": [
            "La población proyectada para el año 2005 es: 763004\n",
            "La población del censo del 2005 es: 717766 \n",
            "Diferencia: 45238\n",
            "La población proyectada para el año 2010 es: 786636\n",
            "La población del censo del 2010 es: 789971\n",
            "Diferencia: 3335\n",
            "La población proyectada para el año 2020 es: 811078\n",
            "La población del censo del 2020 es: 779566\n",
            "Diferencia: 31512\n"
          ]
        }
      ],
      "source": [
        "####Validacion Acapulco####\n",
        "\n",
        "\n",
        "x_data = np.array([1950, 1960, 1970, 1980, 1990, 1995,2000])  # Años\n",
        "y_data = np.array([55862,84720 ,238713 ,409335 ,593212 ,687292,722499])  # Poblaciones correspondientes a los años\n",
        "\n",
        "# Ajustar la curva sigmoid\n",
        "popt, pcov = curve_fit(sigmoid, x_data, y_data,[np.max(y_data),np.min(y_data), np.median(x_data)  ,(np.max(x_data) - np.min(x_data)) / 2 ])\n",
        "\n",
        "# Extraer los parámetros ajustados\n",
        "A1, A2, x0, dx = popt\n",
        "\n",
        "\n",
        "\n",
        "y_pred_2005 = sigmoid(2005, A1, A2, x0, dx)\n",
        "y_pred_2010 = sigmoid(2010, A1, A2, x0, dx)\n",
        "y_pred_2020 = sigmoid(2020, A1, A2, x0, dx)\n",
        "\n",
        "print(\"La población proyectada para el año 2005 es:\", math.trunc(y_pred_2005))\n",
        "print(\"La población del censo del 2005 es: 717766 \")\n",
        "print(\"Diferencia:\",abs(717766- math.trunc(y_pred_2005)))\n",
        "\n",
        "print(\"La población proyectada para el año 2010 es:\", math.trunc(y_pred_2010 ))\n",
        "print(\"La población del censo del 2010 es: 789971\")\n",
        "print(\"Diferencia:\",abs(789971- math.trunc(y_pred_2010)))\n",
        "\n",
        "print(\"La población proyectada para el año 2020 es:\", math.trunc(y_pred_2020))\n",
        "print(\"La población del censo del 2020 es: 779566\")\n",
        "print(\"Diferencia:\",abs(779566- math.trunc(y_pred_2020)))\n"
      ]
    },
    {
      "cell_type": "code",
      "source": [
        "####Validacion Centro####\n",
        "\n",
        "\n",
        "x_data = np.array([1950, 1960, 1970, 1980, 2000 ])  # Años\n",
        "y_data = np.array([158430\t,197918,\t256296\t,340770\t\t,523845 ])  # Poblaciones correspondientes a los años\n",
        "\n",
        "# Ajustar la curva sigmoid\n",
        "popt, pcov = curve_fit(sigmoid, x_data, y_data,[np.max(y_data),np.min(y_data), np.median(x_data)  ,(np.max(x_data) - np.min(x_data)) / 2 ])\n",
        "\n",
        "# Extraer los parámetros ajustados\n",
        "A1, A2, x0, dx = popt\n",
        "\n",
        "y_pred_2005 = sigmoid(2005, A1, A2, x0, dx)\n",
        "y_pred_2010 = sigmoid(2010, A1, A2, x0, dx)\n",
        "y_pred_2020 = sigmoid(2020, A1, A2, x0, dx)\n",
        "\n",
        "print(\"La población proyectada para el año 2005 es:\", math.trunc(y_pred_2005))\n",
        "print(\"La población del censo del 2005 es: 717766 \")\n",
        "print(\"Diferencia:\",abs(717766- math.trunc(y_pred_2005)))\n",
        "\n",
        "print(\"La población proyectada para el año 2010 es:\", math.trunc(y_pred_2010 ))\n",
        "print(\"La población del censo del 2010 es: 789971\")\n",
        "print(\"Diferencia:\",abs(789971- math.trunc(y_pred_2010)))\n",
        "\n",
        "print(\"La población proyectada para el año 2020 es:\", math.trunc(y_pred_2020))\n",
        "print(\"La población del censo del 2020 es: 779566\")\n",
        "print(\"Diferencia:\",abs(779566- math.trunc(y_pred_2020)))\n"
      ],
      "metadata": {
        "colab": {
          "base_uri": "https://localhost:8080/"
        },
        "id": "7w4Z5GfhLgre",
        "outputId": "39a78f5d-f203-42f6-b378-85d342634a68"
      },
      "execution_count": null,
      "outputs": [
        {
          "output_type": "stream",
          "name": "stdout",
          "text": [
            "La población proyectada para el año 2005 es: 560530\n",
            "La población del censo del 2005 es: 717766 \n",
            "Diferencia: 157236\n",
            "La población proyectada para el año 2010 es: 591114\n",
            "La población del censo del 2010 es: 789971\n",
            "Diferencia: 198857\n",
            "La población proyectada para el año 2020 es: 635055\n",
            "La población del censo del 2020 es: 779566\n",
            "Diferencia: 144511\n"
          ]
        }
      ]
    },
    {
      "cell_type": "code",
      "source": [
        "####Validacion Costa C####\n",
        "\n",
        "\n",
        "x_data = np.array([1950, 1960, 1970, 1980, 1990, 2000])  # Años\n",
        "y_data = np.array([131297, 173054, 214662, 277463, 318506, 388416])  # Poblaciones correspondientes a los años\n",
        "\n",
        "# Ajustar la curva sigmoid\n",
        "popt, pcov = curve_fit(sigmoid, x_data, y_data,[np.max(y_data),np.min(y_data), np.median(x_data)  ,(np.max(x_data) - np.min(x_data)) / 2 ],maxfev=10000)\n",
        "\n",
        "# Extraer los parámetros ajustados\n",
        "A1, A2, x0, dx = popt\n",
        "\n",
        "y_pred_2005 = sigmoid(2005, A1, A2, x0, dx)\n",
        "y_pred_2010 = sigmoid(2010, A1, A2, x0, dx)\n",
        "y_pred_2020 = sigmoid(2020, A1, A2, x0, dx)\n",
        "\n",
        "print(\"La población proyectada para el año 2005 es:\", math.trunc(y_pred_2005))\n",
        "print(\"La población del censo del 2005 es: 394455 \")\n",
        "print(\"Diferencia:\",abs(394455- math.trunc(y_pred_2005)))\n",
        "\n",
        "print(\"La población proyectada para el año 2010 es:\", math.trunc(y_pred_2010 ))\n",
        "print(\"La población del censo del 2010 es: 428501\")\n",
        "print(\"Diferencia:\",abs(428501- math.trunc(y_pred_2010)))\n",
        "\n",
        "print(\"La población proyectada para el año 2020 es:\", math.trunc(y_pred_2020))\n",
        "print(\"La población del censo del 2020 es: 461500\")\n",
        "print(\"Diferencia:\",abs(461500- math.trunc(y_pred_2020)))\n"
      ],
      "metadata": {
        "colab": {
          "base_uri": "https://localhost:8080/"
        },
        "id": "PA7MMQHqLpKK",
        "outputId": "d0733b04-c515-4597-ad50-11f3b1f12bed"
      },
      "execution_count": null,
      "outputs": [
        {
          "output_type": "stream",
          "name": "stdout",
          "text": [
            "La población proyectada para el año 2005 es: 419648\n",
            "La población del censo del 2005 es: 394455 \n",
            "Diferencia: 25193\n",
            "La población proyectada para el año 2010 es: 454375\n",
            "La población del censo del 2010 es: 428501\n",
            "Diferencia: 25874\n",
            "La población proyectada para el año 2020 es: 529097\n",
            "La población del censo del 2020 es: 461500\n",
            "Diferencia: 67597\n"
          ]
        }
      ]
    },
    {
      "cell_type": "code",
      "source": [
        "####Validacion Costa G####\n",
        "\n",
        "x_data = np.array([1950, 1960, 1970, 1980, 2000])  # Años\n",
        "y_data = np.array([110076,\t152630,\t205431\t,248595\t,\t391423\t])  # Poblaciones correspondientes a los años\n",
        "\n",
        "# Ajustar la curva sigmoid\n",
        "popt, pcov = curve_fit(sigmoid, x_data, y_data,[np.max(y_data),np.min(y_data), np.median(x_data)  ,(np.max(x_data) - np.min(x_data)) / 2 ],maxfev=10000)\n",
        "\n",
        "# Extraer los parámetros ajustados\n",
        "A1, A2, x0, dx = popt\n",
        "\n",
        "\n",
        "y_pred_2005 = sigmoid(2005, A1, A2, x0, dx)\n",
        "y_pred_2010 = sigmoid(2010, A1, A2, x0, dx)\n",
        "y_pred_2020 = sigmoid(2020, A1, A2, x0, dx)\n",
        "\n",
        "print(\"La población proyectada para el año 2005 es:\", math.trunc(y_pred_2005))\n",
        "print(\"La población del censo del 2005 es: 387423 \")\n",
        "print(\"Diferencia:\",abs(387423- math.trunc(y_pred_2005)))\n",
        "\n",
        "print(\"La población proyectada para el año 2010 es:\", math.trunc(y_pred_2010 ))\n",
        "print(\"La población del censo del 2010 es: 413793\")\n",
        "print(\"Diferencia:\",abs(413793- math.trunc(y_pred_2010)))\n",
        "\n",
        "print(\"La población proyectada para el año 2020 es:\", math.trunc(y_pred_2020))\n",
        "print(\"La población del censo del 2020 es: 423756\")\n",
        "print(\"Diferencia:\",abs(423756- math.trunc(y_pred_2020)))\n"
      ],
      "metadata": {
        "colab": {
          "base_uri": "https://localhost:8080/"
        },
        "id": "v8OWBAQILqV3",
        "outputId": "02ff91fa-e1fe-4224-e6b6-ca46f5c70ef9"
      },
      "execution_count": null,
      "outputs": [
        {
          "output_type": "stream",
          "name": "stdout",
          "text": [
            "La población proyectada para el año 2005 es: 431329\n",
            "La población del censo del 2005 es: 387423 \n",
            "Diferencia: 43906\n",
            "La población proyectada para el año 2010 es: 475249\n",
            "La población del censo del 2010 es: 413793\n",
            "Diferencia: 61456\n",
            "La población proyectada para el año 2020 es: 573350\n",
            "La población del censo del 2020 es: 423756\n",
            "Diferencia: 149594\n"
          ]
        }
      ]
    },
    {
      "cell_type": "code",
      "source": [
        "####Validacion La Montaña####\n",
        "\n",
        "\n",
        "x_data = np.array([1950, 1960, 1970, 1980])  # Años\n",
        "y_data = np.array([111161\t,144323,\t170736\t,214716\t])  # Poblaciones correspondientes a los años\n",
        "\n",
        "# Ajustar la curva sigmoid\n",
        "popt, pcov = curve_fit(sigmoid, x_data, y_data,[np.max(y_data),np.min(y_data), np.median(x_data)  ,(np.max(x_data) - np.min(x_data)) / 2 ], maxfev=5000)#le agregue el maxfev=5000, porque con el default de 1000 no llegaba al valor optimo\n",
        "\n",
        "# Extraer los parámetros ajustados\n",
        "A1, A2, x0, dx = popt\n",
        "\n",
        "y_pred_2005 = sigmoid(2005, A1, A2, x0, dx)\n",
        "y_pred_2010 = sigmoid(2010, A1, A2, x0, dx)\n",
        "y_pred_2020 = sigmoid(2020, A1, A2, x0, dx)\n",
        "\n",
        "print(\"La población proyectada para el año 2005 es:\", math.trunc(y_pred_2005))\n",
        "print(\"La población del censo del 2005 es: 328774\t \")\n",
        "print(\"Diferencia:\",abs(328774- math.trunc(y_pred_2005)))\n",
        "\n",
        "print(\"La población proyectada para el año 2010 es:\", math.trunc(y_pred_2010 ))\n",
        "print(\"La población del censo del 2010 es: 386644\")\n",
        "print(\"Diferencia:\",abs(386644- math.trunc(y_pred_2010)))\n",
        "\n",
        "print(\"La población proyectada para el año 2020 es:\", math.trunc(y_pred_2020))\n",
        "print(\"La población del censo del 2020 es: 431253\")\n",
        "print(\"Diferencia:\",abs(431253- math.trunc(y_pred_2020)))\n"
      ],
      "metadata": {
        "colab": {
          "base_uri": "https://localhost:8080/"
        },
        "id": "qLzTP8BGLrSi",
        "outputId": "e5ae9d7e-890b-49c5-f2e6-52c6bfd01778"
      },
      "execution_count": null,
      "outputs": [
        {
          "output_type": "stream",
          "name": "stdout",
          "text": [
            "La población proyectada para el año 2005 es: 348979\n",
            "La población del censo del 2005 es: 328774\t \n",
            "Diferencia: 20205\n",
            "La población proyectada para el año 2010 es: 383764\n",
            "La población del censo del 2010 es: 386644\n",
            "Diferencia: 2880\n",
            "La población proyectada para el año 2020 es: 463008\n",
            "La población del censo del 2020 es: 431253\n",
            "Diferencia: 31755\n"
          ]
        }
      ]
    },
    {
      "cell_type": "code",
      "source": [
        "####Validacion Norte####\n",
        "\n",
        "x_data = np.array([1950, 1960, 1970, 1980, 2000 ])  # Años\n",
        "y_data = np.array([223490,\t272610,\t333444\t,394791\t,464022\t\t])  # Poblaciones correspondientes a los años\n",
        "\n",
        "# Ajustar la curva sigmoid\n",
        "popt, pcov = curve_fit(sigmoid, x_data, y_data,[np.max(y_data),np.min(y_data), np.median(x_data)  ,(np.max(x_data) - np.min(x_data)) / 2 ])\n",
        "\n",
        "# Extraer los parámetros ajustados\n",
        "A1, A2, x0, dx = popt\n",
        "\n",
        "y_pred_2005 = sigmoid(2005, A1, A2, x0, dx)\n",
        "y_pred_2010 = sigmoid(2010, A1, A2, x0, dx)\n",
        "y_pred_2020 = sigmoid(2020, A1, A2, x0, dx)\n",
        "\n",
        "print(\"La población proyectada para el año 2005 es:\", math.trunc(y_pred_2005))\n",
        "print(\"La población del censo del 2005 es: 454907 \")\n",
        "print(\"Diferencia:\",abs(454907- math.trunc(y_pred_2005)))\n",
        "\n",
        "print(\"La población proyectada para el año 2010 es:\", math.trunc(y_pred_2010 ))\n",
        "print(\"La población del censo del 2010 es: 482383\")\n",
        "print(\"Diferencia:\",abs(482383- math.trunc(y_pred_2010)))\n",
        "\n",
        "print(\"La población proyectada para el año 2020 es:\", math.trunc(y_pred_2020))\n",
        "print(\"La población del censo del 2020 es: 499462\")\n",
        "print(\"Diferencia:\",abs(49462- math.trunc(y_pred_2020)))\n"
      ],
      "metadata": {
        "colab": {
          "base_uri": "https://localhost:8080/"
        },
        "id": "Zd5kkx9hLzfM",
        "outputId": "5275d3a1-1a68-41f3-fd66-29bdc00f0121"
      },
      "execution_count": null,
      "outputs": [
        {
          "output_type": "stream",
          "name": "stdout",
          "text": [
            "La población proyectada para el año 2005 es: 472000\n",
            "La población del censo del 2005 es: 454907 \n",
            "Diferencia: 17093\n",
            "La población proyectada para el año 2010 es: 477549\n",
            "La población del censo del 2010 es: 482383\n",
            "Diferencia: 4834\n",
            "La población proyectada para el año 2020 es: 484046\n",
            "La población del censo del 2020 es: 499462\n",
            "Diferencia: 434584\n"
          ]
        }
      ]
    },
    {
      "cell_type": "code",
      "source": [
        "####Validacion Tierra Caliente####\n",
        "\n",
        "x_data = np.array([1950, 1960, 1970, 1980])  # Años\n",
        "y_data = np.array([129070\t,161461\t,178078,\t223843\t])  # Poblaciones correspondientes a los años\n",
        "\n",
        "# Ajustar la curva sigmoid\n",
        "popt, pcov = curve_fit(sigmoid, x_data, y_data,[np.max(y_data),np.min(y_data), np.median(x_data)  ,(np.max(x_data) - np.min(x_data)) / 2 ],maxfev=10000)\n",
        "\n",
        "# Extraer los parámetros ajustados\n",
        "A1, A2, x0, dx = popt\n",
        "\n",
        "y_pred_2005 = sigmoid(2005, A1, A2, x0, dx)\n",
        "y_pred_2010 = sigmoid(2010, A1, A2, x0, dx)\n",
        "y_pred_2020 = sigmoid(2020, A1, A2, x0, dx)\n",
        "\n",
        "print(\"La población proyectada para el año 2005 es:\", math.trunc(y_pred_2005))\n",
        "print(\"La población del censo del 2005 es: 247408\")\n",
        "print(\"Diferencia:\",abs(247408- math.trunc(y_pred_2005)))\n",
        "\n",
        "print(\"La población proyectada para el año 2010 es:\", math.trunc(y_pred_2010 ))\n",
        "print(\"La población del censo del 2010 es: 251012\")\n",
        "print(\"Diferencia:\",abs(251012- math.trunc(y_pred_2010)))\n",
        "\n",
        "print(\"La población proyectada para el año 2020 es:\", math.trunc(y_pred_2020))\n",
        "print(\"La población del censo del 2020 es: 244555\")\n",
        "print(\"Diferencia:\",abs(244555- math.trunc(y_pred_2020)))\n"
      ],
      "metadata": {
        "colab": {
          "base_uri": "https://localhost:8080/"
        },
        "id": "bC-PO3M4L499",
        "outputId": "92a7e8a4-9a60-4f68-ad0b-8c950cc8a280"
      },
      "execution_count": null,
      "outputs": [
        {
          "output_type": "stream",
          "name": "stdout",
          "text": [
            "La población proyectada para el año 2005 es: 375792\n",
            "La población del censo del 2005 es: 247408\n",
            "Diferencia: 128384\n",
            "La población proyectada para el año 2010 es: 420490\n",
            "La población del censo del 2010 es: 251012\n",
            "Diferencia: 169478\n",
            "La población proyectada para el año 2020 es: 529451\n",
            "La población del censo del 2020 es: 244555\n",
            "Diferencia: 284896\n"
          ]
        }
      ]
    }
  ]
}